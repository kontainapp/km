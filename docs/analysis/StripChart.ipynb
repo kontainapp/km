{
 "cells": [
  {
   "cell_type": "markdown",
   "metadata": {},
   "source": [
    "# KM Hypercall Visualization\n",
    "\n",
    "KM `-Vhypercall` dumps information about each hypercall executed by a system. This is a set of tools to analyze the dump.\n",
    "\n",
    "Since every message is timestamped, the messages can be treated as a time series of events."
   ]
  },
  {
   "cell_type": "code",
   "execution_count": null,
   "metadata": {},
   "outputs": [],
   "source": [
    "%matplotlib inline\n",
    "import matplotlib.pyplot as plt\n",
    "import numpy as np\n",
    "import pandas as pd\n",
    "import re\n",
    "\n",
    "def read_kmtrace(file):\n",
    "    i = []\n",
    "    x = []\n",
    "    with open(file) as f:\n",
    "        for line in f:\n",
    "            f = line.split()\n",
    "            if len(f) == 10 and f[1] == 'hypercall':\n",
    "                match = re.search(r'\\d\\d:\\d\\d:\\d\\d\\.\\d\\d\\d\\d\\d\\d', f[0])\n",
    "                if match is None:\n",
    "                    print(\"Error: bogus time stamp\", f[0])\n",
    "        \n",
    "                i.append(f[0][match.start() : match.end()])\n",
    "                x.append([f[3], f[8][1:-1]])\n",
    "                \n",
    "    df = pd.DataFrame(x, columns=['CPU', 'hypercall'], index=pd.to_datetime(i))\n",
    "    return df\n",
    "\n",
    "def sorted_cpus(df):\n",
    "    return sorted(list(df['CPU'].unique()), key=lambda cpu: int(cpu[5:]))\n",
    "\n",
    "def sorted_hypercalls(df):\n",
    "    return sorted(list(df['hypercall'].unique()))\n",
    "\n",
    "def cpu_strip_chart(df):\n",
    "    cpus = sorted_cpus(df)\n",
    "    fig, ax = plt.subplots(len(cpus), figsize=[9.6, 38.4], sharex=True)\n",
    "    fig.subplots_adjust(hspace=0)\n",
    "    for i in range(len(cpus)):\n",
    "        c = pd.DataFrame(df['CPU'] == cpus[i])\n",
    "        c['CPU'] = c['CPU'].astype(int)\n",
    "        c.resample('ms').sum().plot(ax = ax[i], logy=True, legend=False)\n",
    "        ax[i].set_ylabel(cpus[i])\n",
    "        #ax[i].set_yticks([])\n",
    "\n",
    "def hypercall_strip_chart(df):\n",
    "    hc = sorted_hypercalls(df)\n",
    "    fig, ax = plt.subplots(len(cpus), figsize=[9.6, 38.4], sharex=True)\n",
    "    fig.subplots_adjust(hspace=0)\n",
    "    for i in range(len(hc)):\n",
    "        c = pd.DataFrame(df['hypercall'] == hc[i])\n",
    "        c['hypercall'] = c['hypercall'].astype(int)\n",
    "        c.resample('ms').sum().plot(ax = ax[i], logy=True, legend=False)\n",
    "        ax[i].set_ylabel(hc[i])\n",
    "        "
   ]
  },
  {
   "cell_type": "markdown",
   "metadata": {},
   "source": [
    "# Problem Traces\n",
    "This is a trace that shows the 8 sec delay we are trying to figure out."
   ]
  },
  {
   "cell_type": "code",
   "execution_count": null,
   "metadata": {},
   "outputs": [],
   "source": [
    "df = read_kmtrace('wait_output.serge')"
   ]
  },
  {
   "cell_type": "code",
   "execution_count": null,
   "metadata": {},
   "outputs": [],
   "source": [
    "hypercall_strip_chart(df)"
   ]
  },
  {
   "cell_type": "code",
   "execution_count": null,
   "metadata": {},
   "outputs": [],
   "source": [
    "cpu_strip_chart(df)"
   ]
  },
  {
   "cell_type": "markdown",
   "metadata": {},
   "source": [
    "# Base Line\n",
    "The following charts are from a trace on John's systems that didn't see the delay we saw on Serge's system."
   ]
  },
  {
   "cell_type": "code",
   "execution_count": null,
   "metadata": {},
   "outputs": [],
   "source": [
    "hypercall_strip_chart(read_kmtrace('wait_output.muth'))"
   ]
  },
  {
   "cell_type": "code",
   "execution_count": null,
   "metadata": {},
   "outputs": [],
   "source": [
    "cpu_strip_chart(read_kmtrace('wait_output.muth'))"
   ]
  },
  {
   "cell_type": "code",
   "execution_count": null,
   "metadata": {},
   "outputs": [],
   "source": [
    "\n",
    "stop_time = pd.to_datetime(1594173409320648459)\n",
    "new_df = read_kmtrace(\"new_output.muth\")"
   ]
  },
  {
   "cell_type": "code",
   "execution_count": null,
   "metadata": {},
   "outputs": [],
   "source": [
    "new_df"
   ]
  },
  {
   "cell_type": "code",
   "execution_count": null,
   "metadata": {},
   "outputs": [],
   "source": [
    "hypercall_strip_chart(new_df)"
   ]
  },
  {
   "cell_type": "markdown",
   "metadata": {},
   "source": [
    "# Serge Run- 2\n",
    "I"
   ]
  },
  {
   "cell_type": "code",
   "execution_count": null,
   "metadata": {},
   "outputs": [],
   "source": [
    "start_time = pd.to_datetime(1594226547641095795)\n",
    "ready_time = pd.to_datetime(1594226557734983043)\n",
    "\n",
    "(start_time, answer_time)"
   ]
  },
  {
   "cell_type": "code",
   "execution_count": null,
   "metadata": {},
   "outputs": [],
   "source": [
    "answer_time - start_time"
   ]
  },
  {
   "cell_type": "code",
   "execution_count": null,
   "metadata": {},
   "outputs": [],
   "source": [
    "serge2 = read_kmtrace('trace.serge2')"
   ]
  },
  {
   "cell_type": "code",
   "execution_count": null,
   "metadata": {},
   "outputs": [],
   "source": [
    "# Select items between start and ready\n",
    "z = serge2[serge2.index <= ready_time]\n",
    "hypercall_strip_chart(z)"
   ]
  },
  {
   "cell_type": "code",
   "execution_count": null,
   "metadata": {},
   "outputs": [],
   "source": [
    "pd.to_datetime(1594243353676414818)"
   ]
  },
  {
   "cell_type": "code",
   "execution_count": null,
   "metadata": {},
   "outputs": [],
   "source": [
    "1594671338.380517926 - 1594671337.256868008"
   ]
  },
  {
   "cell_type": "code",
   "execution_count": null,
   "metadata": {},
   "outputs": [],
   "source": [
    "\n"
   ]
  }
 ],
 "metadata": {
  "kernelspec": {
   "display_name": "Python 3",
   "language": "python",
   "name": "python3"
  },
  "language_info": {
   "codemirror_mode": {
    "name": "ipython",
    "version": 3
   },
   "file_extension": ".py",
   "mimetype": "text/x-python",
   "name": "python",
   "nbconvert_exporter": "python",
   "pygments_lexer": "ipython3",
   "version": "3.7.7"
  }
 },
 "nbformat": 4,
 "nbformat_minor": 2
}
