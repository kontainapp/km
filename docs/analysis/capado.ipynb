{
 "cells": [
  {
   "cell_type": "markdown",
   "metadata": {},
   "source": [
    "# Capado Test Notes\n",
    "\n",
    "## Abstract\n",
    "\n",
    "KM Snapshots deiver a significant startup performance boot for Capado's Spring Boot and MicroNaut based applications.\n",
    "\n",
    "The following table shows the time for program startup, as measured by how long it takes before the application responds to HTTP GET requests, for the native applications and for KM snapshots of the applications.\n",
    "\n",
    "Program | Native | KM Snapshot | Speedup\n",
    "------- | -------| ------- | ----\n",
    "Spring Boot | 2.907 | 0.072 | 40x\n",
    "Micronaut | 1.352 | 0.074 | 18x\n",
    "\n",
    "\n",
    "## Details\n",
    "\n",
    "Startup time for applications is becoming increasingly important as the world moves from monolitic applications to applications as a collection of microservces. As the number of microservices grows it becomes increasingly expensive to maintain acceptable microservice response time by pre-running binaries for these microservices in memory.\n",
    "\n",
    "Many microservices are in fact implenented in Java using frameworks like Spring Boot and Micronaut. These frameworks automate configuration and compoment linkage tasks that are extrememly error-prone when done by hand. The cost for this is long start-up times as the compoments are initialized and the application is ready to process requests.\n",
    "\n",
    "The Konatin Monitor (KM) can start an on-disk image of an application after it has been initialized to be started and ready to process requests in a fraction of the time of the original application.\n",
    "\n",
    "These tests were run against the Spring Boot application at `https://github.com/CopadoSolutions/springboot-poc.git`.\n",
    "\n",
    "The application requires a `redis` server and a `postgres` server. Docker containers with the latest public image for these components were used.\n",
    "\n",
    "Time to application ready was measured by starting a client application that attempts to make a HTTP `GET` command. When the `GET` succeeds, the current time in nanoseconds is printed. The time in nanoseconds is printed when the application is started. The value `successful_get_time - application_start_time` is the startup time.\n",
    "\n",
    "Two scenarios are compared:\n",
    "1. The application started with native java\n",
    "2. A KM snapshot of the application is started.\n",
    "\n",
    "Each scenario was run five times. The mean and standard deviation are calculated for each scenario.\n",
    "\n",
    "## Spring Boot Results\n",
    "\n",
    "The mean startup time for the native Spring Boot Java application was 2.907 seconds with a standard deviation of 0.039 seconds. In contrast, a KM snapshot of the application had a mean startup time of 0.072 seconds with a 0.010 second standard deviation.\n",
    "\n",
    "This represents a 40x improvement over native Spring Boot.\n",
    "\n",
    "## MicroNaut Results\n",
    "\n",
    "The mean startup time for the native Micrinaut application was 1.352 seconds with a standard deviation of 0.004 seconds. In contrast, a KM snapshot of the application had a mean startup time of 0.074 seconds with a standard deviation of 0.004 seconds.\n",
    "\n",
    "This represents a 18x improvement over native Micronaut.\n",
    "\n",
    "## Background\n",
    "\n",
    "Python code to generate results.\n"
   ]
  },
  {
   "cell_type": "code",
   "execution_count": 32,
   "metadata": {},
   "outputs": [],
   "source": [
    "# Common imports and function\n",
    "%matplotlib inline\n",
    "import numpy as np\n",
    "import pandas as pd\n",
    "import matplotlib.pyplot as plt\n",
    "\n",
    "def mean_time(times):\n",
    "    # time is nanosecond value. Convert to seconds.\n",
    "    return (np.mean([(x[1] - x[0]) for x in times])/1000000000, \n",
    "            np.std([(x[1] - x[0]) for x in times])/1000000000)"
   ]
  },
  {
   "cell_type": "markdown",
   "metadata": {},
   "source": [
    "### Sprint Boot Native\n",
    "Native runs `java -jar springboot-poc-0.0.1-SNAPSHOT.jar`."
   ]
  },
  {
   "cell_type": "code",
   "execution_count": 79,
   "metadata": {},
   "outputs": [
    {
     "name": "stdout",
     "output_type": "stream",
     "text": [
      "mean: 2.9070668386 stddev: 0.038824278358718295\n"
     ]
    }
   ],
   "source": [
    "# [start, ready] timestamps for native java (No Docker)\n",
    "native = [[1594330616955415687, 1594330619922285498],\n",
    "          [1594330700336089732, 1594330703268789829],\n",
    "          [1594330881783208703, 1594330884639513602],\n",
    "          [1594330938616865576, 1594330941514508415],\n",
    "          [1594330985850950981, 1594330988732767528]]\n",
    "\n",
    "native_mean = mean_time(native)\n",
    "print(\"native mean: {} stddev: {}\".format(native_mean[0], native_mean[1]))"
   ]
  },
  {
   "cell_type": "markdown",
   "metadata": {},
   "source": [
    "### Spring Boot KM Snapshot\n",
    "\n",
    "Snapshot runs: `km --resume <snapshot>`."
   ]
  },
  {
   "cell_type": "code",
   "execution_count": 86,
   "metadata": {},
   "outputs": [
    {
     "name": "stdout",
     "output_type": "stream",
     "text": [
      "km snapshot mean: 0.0725858974 stddev: 0.010027543413225606\n",
      "snapshot speedup: 40.05002270041508\n"
     ]
    }
   ],
   "source": [
    "# KM Snapshot start (Inside Docker for file system)\n",
    "km_snap = [\n",
    "            [1594346248289880216, 1594346248363207645],\n",
    "            [1594346340914741204, 1594346341004931036],\n",
    "            [1594346415514450172, 1594346415588229106],\n",
    "            [1594346451486340815, 1594346451549087212],\n",
    "            [1594346518005153220, 1594346518068040115]\n",
    "          ]\n",
    "\n",
    "kmsnap_mean = mean_time(km_snap)\n",
    "print(\"km snapshot mean: {} stddev: {}\".format(kmsnap_mean[0], kmsnap_mean[1]))\n",
    "print(\"snapshot speedup: {}\".format(native_mean[0] / kmsnap_mean[0]))"
   ]
  },
  {
   "cell_type": "markdown",
   "metadata": {},
   "source": [
    "### Micronaut Native\n"
   ]
  },
  {
   "cell_type": "code",
   "execution_count": 102,
   "metadata": {},
   "outputs": [
    {
     "name": "stdout",
     "output_type": "stream",
     "text": [
      "micronaut native mean: 1.352229449 stddev: 0.01590940876727714\n"
     ]
    }
   ],
   "source": [
    "nm_native = [\n",
    "    [1594355798575781943, 1594355799917436852],\n",
    "    [1594356008536292824, 1594356009919872323],\n",
    "    [1594356090868155823, 1594356092212039880],\n",
    "    [1594356148473063658, 1594356149815613916],\n",
    "    [1594356254815930466, 1594356256165408988]\n",
    "]\n",
    "mn_native_mean = mean_time(nm_native)\n",
    "#[n[1] - n[0] for n in nm_native]\n",
    "print(\"micronaut native mean: {} stddev: {}\".format(mn_native_mean[0], mn_native_mean[1]))"
   ]
  },
  {
   "cell_type": "markdown",
   "metadata": {},
   "source": [
    "### Micronaut KM Snapshot"
   ]
  },
  {
   "cell_type": "code",
   "execution_count": 105,
   "metadata": {},
   "outputs": [
    {
     "name": "stdout",
     "output_type": "stream",
     "text": [
      "km snapshot mean: 0.0745852102 stddev: 0.0037857236025562882\n",
      "snapshot speedup: 18.129994477108813\n"
     ]
    }
   ],
   "source": [
    "mn_kmsnap = [\n",
    "    [1594589028637859804, 1594589028709518230],\n",
    "    [1594589231424698394, 1594589231506652927],\n",
    "    [1594589277646541020, 1594589277719343920],\n",
    "    [1594589343740795895, 1594589343815068462],\n",
    "    [1594589389651950692, 1594589389724188317],\n",
    "]\n",
    "\n",
    "mn_kmsnap_mean = mean_time(nm_kmsnap)\n",
    "print(\"km snapshot mean: {} stddev: {}\".format(mn_kmsnap_mean[0], mn_kmsnap_mean[1]))\n",
    "print(\"snapshot speedup: {}\".format(mn_native_mean[0] / mn_kmsnap_mean[0]))"
   ]
  },
  {
   "cell_type": "markdown",
   "metadata": {},
   "source": [
    "# Snapshot Creation\n",
    "\n",
    "Time creation of snapshot. KM process exit counted as snapshot fully created."
   ]
  },
  {
   "cell_type": "code",
   "execution_count": null,
   "metadata": {},
   "outputs": [],
   "source": []
  },
  {
   "cell_type": "code",
   "execution_count": 113,
   "metadata": {},
   "outputs": [
    {
     "data": {
      "text/plain": [
       "(0.432629178, 0.00659032832907289)"
      ]
     },
     "execution_count": 113,
     "metadata": {},
     "output_type": "execute_result"
    }
   ],
   "source": [
    "# Removed all coredump printing\n",
    "kmsnap_create_silent = [\n",
    "    [1594607583125984451, 1594607583565739634],\n",
    "    [1594607633453041740, 1594607633887310192],\n",
    "    [1594607703715755381, 1594607704139619280],\n",
    "]\n",
    "\n",
    "mean_time(kmsnap_create_silent)"
   ]
  },
  {
   "cell_type": "code",
   "execution_count": null,
   "metadata": {},
   "outputs": [],
   "source": []
  }
 ],
 "metadata": {
  "kernelspec": {
   "display_name": "Python 3",
   "language": "python",
   "name": "python3"
  },
  "language_info": {
   "codemirror_mode": {
    "name": "ipython",
    "version": 3
   },
   "file_extension": ".py",
   "mimetype": "text/x-python",
   "name": "python",
   "nbconvert_exporter": "python",
   "pygments_lexer": "ipython3",
   "version": "3.7.7"
  }
 },
 "nbformat": 4,
 "nbformat_minor": 2
}
